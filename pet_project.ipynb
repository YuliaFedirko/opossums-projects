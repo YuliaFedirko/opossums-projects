{
 "cells": [
  {
   "cell_type": "markdown",
   "id": "68db92ba-d28b-4109-b9d2-10ce3bb7b5cf",
   "metadata": {},
   "source": [
    "# Hello, Its Yulias Pet Work 😇"
   ]
  },
  {
   "cell_type": "markdown",
   "id": "49908a8a-8c2e-4d83-8af1-0e467c59e372",
   "metadata": {},
   "source": [
    "With this project, I want to emphasize my knowledge of the actual data analysis libraries and my understanding of basic statistical concepts. I use a dataset from Kaggle about opossums.\n",
    "I use dataset from kaggle about opossums.\n",
    "\n",
    "<img src=\"https://i.pinimg.com/originals/72/8d/21/728d210e2e994c61e27e1b2563ed6480.png\" alt=\"opposum\" width=\"200\"/>\n",
    "I hope you will have fun with my work!"
   ]
  },
  {
   "cell_type": "markdown",
   "id": "4df24695-5372-45d5-9e56-4b2b93e94ae1",
   "metadata": {},
   "source": [
    "## Case:"
   ]
  },
  {
   "cell_type": "markdown",
   "id": "f293cf7f-ca98-4967-a655-c71012e7fb6e",
   "metadata": {},
   "source": [
    "https://www.kaggle.com/abrambeyer/openintro-possum\n",
    "I will answer **3** questions 💪: \n",
    "1) Can we use **total length** to predict a possum's **head length**?\n",
    "2) Can we classify a possum's **sex** by its **body dimensions**?\n",
    "3) Visualising data"
   ]
  },
  {
   "cell_type": "markdown",
   "id": "3281bbdd-69af-4984-9037-1f971e333fe2",
   "metadata": {},
   "source": [
    "#### Brief conclusions:"
   ]
  },
  {
   "cell_type": "markdown",
   "id": "3612b73e-fe73-49c5-9691-c4e36bc64db5",
   "metadata": {},
   "source": [
    "1) There is near 50% connection between those factors, with an increase in *total lehghth by 1%, head will increase by 0.53%*\n",
    "2) We can only by head and total lenghth: *males have longer head, but smaller total lenghth a visa verse*."
   ]
  },
  {
   "cell_type": "markdown",
   "id": "3d5dd6ba-3fde-4b7e-be69-00f04c0d419c",
   "metadata": {},
   "source": [
    "## Data analysis. Construction and evaluation of models."
   ]
  },
  {
   "cell_type": "markdown",
   "id": "25f7b8c2-8b77-4ff2-8807-0e9e6a8d2905",
   "metadata": {},
   "source": [
    "For reading CSV and working with data frame I use pandas."
   ]
  },
  {
   "cell_type": "code",
   "execution_count": 2,
   "id": "8f3c1312-61be-4e53-8bc9-c34fcff0adfb",
   "metadata": {},
   "outputs": [],
   "source": [
    "import numpy as np\n",
    "import pandas as pd\n",
    "import matplotlib.pyplot as plt\n",
    "import statsmodels.api as sm\n",
    "import seaborn as sns\n",
    "sns.set_theme(palette = \"pastel\", style = \"whitegrid\")"
   ]
  },
  {
   "cell_type": "code",
   "execution_count": 8,
   "id": "b87bca9a-3853-4674-82f5-2e6f1cd2d0d9",
   "metadata": {},
   "outputs": [],
   "source": [
    "df = pd.read_csv(\"possum.csv\", index_col = 0)"
   ]
  },
  {
   "cell_type": "markdown",
   "id": "a62e5f77-4a9b-4339-9d6e-5e5be880d2e8",
   "metadata": {},
   "source": [
    "Its usefull to check types, maybe we have some issues with loading data."
   ]
  },
  {
   "cell_type": "code",
   "execution_count": 4,
   "id": "36f1acfa-b00d-4dcd-a096-d37fa1cc974c",
   "metadata": {},
   "outputs": [
    {
     "data": {
      "text/plain": [
       "site          int64\n",
       "Pop          object\n",
       "sex          object\n",
       "age         float64\n",
       "hdlngth     float64\n",
       "skullw      float64\n",
       "totlngth    float64\n",
       "taill       float64\n",
       "footlgth    float64\n",
       "earconch    float64\n",
       "eye         float64\n",
       "chest       float64\n",
       "belly       float64\n",
       "dtype: object"
      ]
     },
     "execution_count": 4,
     "metadata": {},
     "output_type": "execute_result"
    }
   ],
   "source": [
    "df.dtypes"
   ]
  },
  {
   "cell_type": "code",
   "execution_count": 5,
   "id": "327820f4-895c-4ac2-a2a5-3cc44092dc50",
   "metadata": {},
   "outputs": [
    {
     "data": {
      "text/html": [
       "<div>\n",
       "<style scoped>\n",
       "    .dataframe tbody tr th:only-of-type {\n",
       "        vertical-align: middle;\n",
       "    }\n",
       "\n",
       "    .dataframe tbody tr th {\n",
       "        vertical-align: top;\n",
       "    }\n",
       "\n",
       "    .dataframe thead th {\n",
       "        text-align: right;\n",
       "    }\n",
       "</style>\n",
       "<table border=\"1\" class=\"dataframe\">\n",
       "  <thead>\n",
       "    <tr style=\"text-align: right;\">\n",
       "      <th></th>\n",
       "      <th>site</th>\n",
       "      <th>Pop</th>\n",
       "      <th>sex</th>\n",
       "      <th>age</th>\n",
       "      <th>hdlngth</th>\n",
       "      <th>skullw</th>\n",
       "      <th>totlngth</th>\n",
       "      <th>taill</th>\n",
       "      <th>footlgth</th>\n",
       "      <th>earconch</th>\n",
       "      <th>eye</th>\n",
       "      <th>chest</th>\n",
       "      <th>belly</th>\n",
       "    </tr>\n",
       "    <tr>\n",
       "      <th>case</th>\n",
       "      <th></th>\n",
       "      <th></th>\n",
       "      <th></th>\n",
       "      <th></th>\n",
       "      <th></th>\n",
       "      <th></th>\n",
       "      <th></th>\n",
       "      <th></th>\n",
       "      <th></th>\n",
       "      <th></th>\n",
       "      <th></th>\n",
       "      <th></th>\n",
       "      <th></th>\n",
       "    </tr>\n",
       "  </thead>\n",
       "  <tbody>\n",
       "    <tr>\n",
       "      <th>1</th>\n",
       "      <td>1</td>\n",
       "      <td>Vic</td>\n",
       "      <td>m</td>\n",
       "      <td>8.0</td>\n",
       "      <td>94.1</td>\n",
       "      <td>60.4</td>\n",
       "      <td>89.0</td>\n",
       "      <td>36.0</td>\n",
       "      <td>74.5</td>\n",
       "      <td>54.5</td>\n",
       "      <td>15.2</td>\n",
       "      <td>28.0</td>\n",
       "      <td>36.0</td>\n",
       "    </tr>\n",
       "    <tr>\n",
       "      <th>2</th>\n",
       "      <td>1</td>\n",
       "      <td>Vic</td>\n",
       "      <td>f</td>\n",
       "      <td>6.0</td>\n",
       "      <td>92.5</td>\n",
       "      <td>57.6</td>\n",
       "      <td>91.5</td>\n",
       "      <td>36.5</td>\n",
       "      <td>72.5</td>\n",
       "      <td>51.2</td>\n",
       "      <td>16.0</td>\n",
       "      <td>28.5</td>\n",
       "      <td>33.0</td>\n",
       "    </tr>\n",
       "    <tr>\n",
       "      <th>3</th>\n",
       "      <td>1</td>\n",
       "      <td>Vic</td>\n",
       "      <td>f</td>\n",
       "      <td>6.0</td>\n",
       "      <td>94.0</td>\n",
       "      <td>60.0</td>\n",
       "      <td>95.5</td>\n",
       "      <td>39.0</td>\n",
       "      <td>75.4</td>\n",
       "      <td>51.9</td>\n",
       "      <td>15.5</td>\n",
       "      <td>30.0</td>\n",
       "      <td>34.0</td>\n",
       "    </tr>\n",
       "  </tbody>\n",
       "</table>\n",
       "</div>"
      ],
      "text/plain": [
       "      site  Pop sex  age  hdlngth  skullw  totlngth  taill  footlgth  \\\n",
       "case                                                                   \n",
       "1        1  Vic   m  8.0     94.1    60.4      89.0   36.0      74.5   \n",
       "2        1  Vic   f  6.0     92.5    57.6      91.5   36.5      72.5   \n",
       "3        1  Vic   f  6.0     94.0    60.0      95.5   39.0      75.4   \n",
       "\n",
       "      earconch   eye  chest  belly  \n",
       "case                                \n",
       "1         54.5  15.2   28.0   36.0  \n",
       "2         51.2  16.0   28.5   33.0  \n",
       "3         51.9  15.5   30.0   34.0  "
      ]
     },
     "execution_count": 5,
     "metadata": {},
     "output_type": "execute_result"
    }
   ],
   "source": [
    "df.head(3)"
   ]
  },
  {
   "cell_type": "markdown",
   "id": "7d1d262e-3687-407d-a39e-5c28db346b1b",
   "metadata": {},
   "source": [
    "Checking for nulls is always good idea :)"
   ]
  },
  {
   "cell_type": "code",
   "execution_count": 6,
   "id": "e880e6b7-efe6-426a-985a-e76ed2f35bbf",
   "metadata": {},
   "outputs": [
    {
     "data": {
      "text/plain": [
       "site        0\n",
       "Pop         0\n",
       "sex         0\n",
       "age         2\n",
       "hdlngth     0\n",
       "skullw      0\n",
       "totlngth    0\n",
       "taill       0\n",
       "footlgth    1\n",
       "earconch    0\n",
       "eye         0\n",
       "chest       0\n",
       "belly       0\n",
       "dtype: int64"
      ]
     },
     "execution_count": 6,
     "metadata": {},
     "output_type": "execute_result"
    }
   ],
   "source": [
    "pd.isnull(df).sum()"
   ]
  },
  {
   "cell_type": "markdown",
   "id": "48eb0960-f364-410e-b662-02b28f2ab89e",
   "metadata": {},
   "source": [
    "We have some null values, so I use method ffill to fill them because its missle values."
   ]
  },
  {
   "cell_type": "code",
   "execution_count": 9,
   "id": "2082423d-93b2-43ab-8ccc-a6a2b78c63c5",
   "metadata": {},
   "outputs": [],
   "source": [
    "df = df.fillna(method = \"ffill\")"
   ]
  },
  {
   "cell_type": "markdown",
   "id": "fa8cada0-3f5b-4080-9387-6664b3734691",
   "metadata": {},
   "source": [
    "## Building Hypothesis"
   ]
  },
  {
   "cell_type": "markdown",
   "id": "083b0e0f-0028-4ba5-8ae7-0a66c8dc3342",
   "metadata": {},
   "source": [
    "In order to understand the relationship between factors, I built a correlation matrix with help of seaborn. Further I will use the seaborn library to visualize, as it gives very nice graphs."
   ]
  },
  {
   "cell_type": "code",
   "execution_count": 10,
   "id": "e5719ff3-a035-489b-b937-471d4de08d66",
   "metadata": {},
   "outputs": [
    {
     "data": {
      "text/plain": [
       "<AxesSubplot:>"
      ]
     },
     "execution_count": 10,
     "metadata": {},
     "output_type": "execute_result"
    },
    {
     "data": {
      "image/png": "[encoded data removed]",
      "text/plain": [
       "<Figure size 432x288 with 2 Axes>"
      ]
     },
     "metadata": {},
     "output_type": "display_data"
    }
   ],
   "source": [
    "corr = df.corr()\n",
    "sns.heatmap(corr, center = 1, linewidths = 0.5, cmap = \"BuPu\")"
   ]
  },
  {
   "cell_type": "markdown",
   "id": "a5c5172a-94dd-44ca-9f92-888659073eeb",
   "metadata": {},
   "source": [
    "The darker color -> the stronger connection."
   ]
  },
  {
   "cell_type": "markdown",
   "id": "04b4dfe3-d170-433f-81b8-3e4e04138de7",
   "metadata": {},
   "source": [
    "### 1) Can we use total length to predict a possum's head length?"
   ]
  },
  {
   "cell_type": "markdown",
   "id": "b110cd94-fa57-43ff-a849-19917a658192",
   "metadata": {},
   "source": [
    "Looking at the correlation matrix - yes. But let's build a regression and find out how."
   ]
  },
  {
   "cell_type": "code",
   "execution_count": 8,
   "id": "0a9c604a-26f1-4588-8aad-aaa460f6753a",
   "metadata": {},
   "outputs": [
    {
     "data": {
      "text/plain": [
       "<AxesSubplot:xlabel='totlngth', ylabel='hdlngth'>"
      ]
     },
     "execution_count": 8,
     "metadata": {},
     "output_type": "execute_result"
    },
    {
     "data": {
      "image/png": "[encoded data removed]",
      "text/plain": [
       "<Figure size 432x288 with 1 Axes>"
      ]
     },
     "metadata": {},
     "output_type": "display_data"
    }
   ],
   "source": [
    "sns.regplot(x=\"totlngth\", y=\"hdlngth\", data=df)"
   ]
  },
  {
   "cell_type": "markdown",
   "id": "98cfadc3-3538-460e-9506-e1bb2cc573c0",
   "metadata": {},
   "source": [
    "We observe linear dependences."
   ]
  },
  {
   "cell_type": "markdown",
   "id": "3e05298f-9e03-4e79-83f0-3402220cf339",
   "metadata": {},
   "source": [
    "For working with regression I use statsmodel library."
   ]
  },
  {
   "cell_type": "code",
   "execution_count": 9,
   "id": "7069542c-ca6d-4ba5-8728-242f95a3a920",
   "metadata": {},
   "outputs": [
    {
     "data": {
      "text/html": [
       "<table class=\"simpletable\">\n",
       "<caption>OLS Regression Results</caption>\n",
       "<tr>\n",
       "  <th>Dep. Variable:</th>         <td>hdlngth</td>     <th>  R-squared:         </th> <td>   0.478</td>\n",
       "</tr>\n",
       "<tr>\n",
       "  <th>Model:</th>                   <td>OLS</td>       <th>  Adj. R-squared:    </th> <td>   0.472</td>\n",
       "</tr>\n",
       "<tr>\n",
       "  <th>Method:</th>             <td>Least Squares</td>  <th>  F-statistic:       </th> <td>   93.26</td>\n",
       "</tr>\n",
       "<tr>\n",
       "  <th>Date:</th>             <td>Tue, 14 Sep 2021</td> <th>  Prob (F-statistic):</th> <td>4.68e-16</td>\n",
       "</tr>\n",
       "<tr>\n",
       "  <th>Time:</th>                 <td>12:51:56</td>     <th>  Log-Likelihood:    </th> <td> -245.75</td>\n",
       "</tr>\n",
       "<tr>\n",
       "  <th>No. Observations:</th>      <td>   104</td>      <th>  AIC:               </th> <td>   495.5</td>\n",
       "</tr>\n",
       "<tr>\n",
       "  <th>Df Residuals:</th>          <td>   102</td>      <th>  BIC:               </th> <td>   500.8</td>\n",
       "</tr>\n",
       "<tr>\n",
       "  <th>Df Model:</th>              <td>     1</td>      <th>                     </th>     <td> </td>   \n",
       "</tr>\n",
       "<tr>\n",
       "  <th>Covariance Type:</th>      <td>nonrobust</td>    <th>                     </th>     <td> </td>   \n",
       "</tr>\n",
       "</table>\n",
       "<table class=\"simpletable\">\n",
       "<tr>\n",
       "      <td></td>        <th>coef</th>     <th>std err</th>      <th>t</th>      <th>P>|t|</th>  <th>[0.025</th>    <th>0.975]</th>  \n",
       "</tr>\n",
       "<tr>\n",
       "  <th>const</th>    <td>   42.7098</td> <td>    5.173</td> <td>    8.257</td> <td> 0.000</td> <td>   32.450</td> <td>   52.970</td>\n",
       "</tr>\n",
       "<tr>\n",
       "  <th>totlngth</th> <td>    0.5729</td> <td>    0.059</td> <td>    9.657</td> <td> 0.000</td> <td>    0.455</td> <td>    0.691</td>\n",
       "</tr>\n",
       "</table>\n",
       "<table class=\"simpletable\">\n",
       "<tr>\n",
       "  <th>Omnibus:</th>       <td> 5.577</td> <th>  Durbin-Watson:     </th> <td>   1.881</td>\n",
       "</tr>\n",
       "<tr>\n",
       "  <th>Prob(Omnibus):</th> <td> 0.062</td> <th>  Jarque-Bera (JB):  </th> <td>   5.117</td>\n",
       "</tr>\n",
       "<tr>\n",
       "  <th>Skew:</th>          <td> 0.422</td> <th>  Prob(JB):          </th> <td>  0.0774</td>\n",
       "</tr>\n",
       "<tr>\n",
       "  <th>Kurtosis:</th>      <td> 3.684</td> <th>  Cond. No.          </th> <td>1.77e+03</td>\n",
       "</tr>\n",
       "</table><br/><br/>Notes:<br/>[1] Standard Errors assume that the covariance matrix of the errors is correctly specified.<br/>[2] The condition number is large, 1.77e+03. This might indicate that there are<br/>strong multicollinearity or other numerical problems."
      ],
      "text/plain": [
       "<class 'statsmodels.iolib.summary.Summary'>\n",
       "\"\"\"\n",
       "                            OLS Regression Results                            \n",
       "==============================================================================\n",
       "Dep. Variable:                hdlngth   R-squared:                       0.478\n",
       "Model:                            OLS   Adj. R-squared:                  0.472\n",
       "Method:                 Least Squares   F-statistic:                     93.26\n",
       "Date:                Tue, 14 Sep 2021   Prob (F-statistic):           4.68e-16\n",
       "Time:                        12:51:56   Log-Likelihood:                -245.75\n",
       "No. Observations:                 104   AIC:                             495.5\n",
       "Df Residuals:                     102   BIC:                             500.8\n",
       "Df Model:                           1                                         \n",
       "Covariance Type:            nonrobust                                         \n",
       "==============================================================================\n",
       "                 coef    std err          t      P>|t|      [0.025      0.975]\n",
       "------------------------------------------------------------------------------\n",
       "const         42.7098      5.173      8.257      0.000      32.450      52.970\n",
       "totlngth       0.5729      0.059      9.657      0.000       0.455       0.691\n",
       "==============================================================================\n",
       "Omnibus:                        5.577   Durbin-Watson:                   1.881\n",
       "Prob(Omnibus):                  0.062   Jarque-Bera (JB):                5.117\n",
       "Skew:                           0.422   Prob(JB):                       0.0774\n",
       "Kurtosis:                       3.684   Cond. No.                     1.77e+03\n",
       "==============================================================================\n",
       "\n",
       "Notes:\n",
       "[1] Standard Errors assume that the covariance matrix of the errors is correctly specified.\n",
       "[2] The condition number is large, 1.77e+03. This might indicate that there are\n",
       "strong multicollinearity or other numerical problems.\n",
       "\"\"\""
      ]
     },
     "execution_count": 9,
     "metadata": {},
     "output_type": "execute_result"
    }
   ],
   "source": [
    "X = df[\"totlngth\"]\n",
    "X = sm.add_constant(X)\n",
    "\n",
    "y = df[\"hdlngth\"]\n",
    "\n",
    "res = sm.OLS(y, X).fit()\n",
    "res.summary()"
   ]
  },
  {
   "cell_type": "code",
   "execution_count": 34,
   "id": "e01393b7-837c-42af-937d-aa9eee9ab0ea",
   "metadata": {},
   "outputs": [
    {
     "name": "stdout",
     "output_type": "stream",
     "text": [
      "Parameters:  const       42.709793\n",
      "totlngth     0.572901\n",
      "dtype: float64\n",
      "Standard errors:  const       5.172814\n",
      "totlngth    0.059325\n",
      "dtype: float64\n"
     ]
    }
   ],
   "source": [
    "print('Parameters: ', res.params)\n",
    "print('Standard errors: ', res.bse)"
   ]
  },
  {
   "cell_type": "code",
   "execution_count": 11,
   "id": "09b7bf4b-df0d-49d8-abc3-1ec14c701241",
   "metadata": {},
   "outputs": [
    {
     "data": {
      "text/plain": [
       "<matplotlib.legend.Legend at 0x1523db97160>"
      ]
     },
     "execution_count": 11,
     "metadata": {},
     "output_type": "execute_result"
    },
    {
     "data": {
      "image/png": "[encoded data removed]",
      "text/plain": [
       "<Figure size 432x288 with 1 Axes>"
      ]
     },
     "metadata": {},
     "output_type": "display_data"
    }
   ],
   "source": [
    "plt.plot(df.index, res.predict())\n",
    "plt.plot(df.index, df[\"hdlngth\"])\n",
    "plt.plot(df.index, res.resid)\n",
    "plt.xlabel(\"Observation\")\n",
    "plt.ylabel(\"Head length\")\n",
    "plt.legend(['Predicted', 'True', 'Residuals'])"
   ]
  },
  {
   "cell_type": "markdown",
   "id": "abcdc8b6-fc17-48ad-a3e8-cbfd25ee10b8",
   "metadata": {},
   "source": [
    "1) Hypothesis about the adequacy of the model: R^2 = 0.478, independent variable explain the dependent variable on 47.8%.\n",
    "\n",
    "2) Hypothesis about the significance of the model coefficient: Prob < 0.05  Coefficient is significant."
   ]
  },
  {
   "cell_type": "markdown",
   "id": "d69e1e8d-6270-4d6e-8f2f-adaffe353ff7",
   "metadata": {},
   "source": [
    "It is important to determine reliable intervals for the coefficient of the model (characterize the possibility of fluctuations of the coefficients of the constructed regression in a certain interval)."
   ]
  },
  {
   "cell_type": "code",
   "execution_count": 12,
   "id": "b3d4f9ec-7350-43c9-994f-6b1f2598197e",
   "metadata": {},
   "outputs": [
    {
     "data": {
      "text/html": [
       "<div>\n",
       "<style scoped>\n",
       "    .dataframe tbody tr th:only-of-type {\n",
       "        vertical-align: middle;\n",
       "    }\n",
       "\n",
       "    .dataframe tbody tr th {\n",
       "        vertical-align: top;\n",
       "    }\n",
       "\n",
       "    .dataframe thead th {\n",
       "        text-align: right;\n",
       "    }\n",
       "</style>\n",
       "<table border=\"1\" class=\"dataframe\">\n",
       "  <thead>\n",
       "    <tr style=\"text-align: right;\">\n",
       "      <th></th>\n",
       "      <th>0</th>\n",
       "      <th>1</th>\n",
       "    </tr>\n",
       "  </thead>\n",
       "  <tbody>\n",
       "    <tr>\n",
       "      <th>const</th>\n",
       "      <td>32.449541</td>\n",
       "      <td>52.970045</td>\n",
       "    </tr>\n",
       "    <tr>\n",
       "      <th>totlngth</th>\n",
       "      <td>0.455230</td>\n",
       "      <td>0.690573</td>\n",
       "    </tr>\n",
       "  </tbody>\n",
       "</table>\n",
       "</div>"
      ],
      "text/plain": [
       "                  0          1\n",
       "const     32.449541  52.970045\n",
       "totlngth   0.455230   0.690573"
      ]
     },
     "execution_count": 12,
     "metadata": {},
     "output_type": "execute_result"
    }
   ],
   "source": [
    "res.conf_int(alpha = 0.05)"
   ]
  },
  {
   "cell_type": "markdown",
   "id": "a96dd0df-9ecf-4be8-a7c4-188705b8214f",
   "metadata": {},
   "source": [
    "**Normality of residuals:**"
   ]
  },
  {
   "cell_type": "markdown",
   "id": "a25d8e20-a8d2-4332-bf13-c884fa0f5a02",
   "metadata": {},
   "source": [
    "Jarque-Bera (JB) = 0.07 > 0.05 so residuals have normal distribution."
   ]
  },
  {
   "cell_type": "code",
   "execution_count": 13,
   "id": "a04d122d-11bc-4b4c-af47-bed4b84b0e58",
   "metadata": {},
   "outputs": [
    {
     "data": {
      "text/plain": [
       "Text(0.5, 1.0, 'Normality of residuals')"
      ]
     },
     "execution_count": 13,
     "metadata": {},
     "output_type": "execute_result"
    },
    {
     "data": {
      "image/png": "[encoded data removed]",
      "text/plain": [
       "<Figure size 432x288 with 1 Axes>"
      ]
     },
     "metadata": {},
     "output_type": "display_data"
    }
   ],
   "source": [
    "plt.hist(res.resid, bins = [-3,-2,-1,0,1,2,3])\n",
    "plt.title(\"Normality of residuals\") "
   ]
  },
  {
   "cell_type": "markdown",
   "id": "d55cbd76-1083-4d06-9de1-f0999d901952",
   "metadata": {},
   "source": [
    "**Heteroscedasticity**"
   ]
  },
  {
   "cell_type": "code",
   "execution_count": 14,
   "id": "59b7f0e9-a89f-4d28-bab0-a7d6a0541631",
   "metadata": {},
   "outputs": [
    {
     "name": "stdout",
     "output_type": "stream",
     "text": [
      "F-test's p-value: 0.9128202287973322\n"
     ]
    }
   ],
   "source": [
    "from statsmodels.stats.diagnostic import het_white\n",
    "results = het_white(res.resid, X)\n",
    "print('F-test\\'s p-value:', results[3])"
   ]
  },
  {
   "cell_type": "markdown",
   "id": "8fae2d5a-3ade-4b59-8c47-b94a97a056c6",
   "metadata": {},
   "source": [
    "prob > 0.05 no heteroskedasticity"
   ]
  },
  {
   "cell_type": "markdown",
   "id": "36877035-9880-428b-912c-12a5dc059f42",
   "metadata": {},
   "source": [
    "**Autocorrelation**"
   ]
  },
  {
   "cell_type": "code",
   "execution_count": 15,
   "id": "ada49c38-563e-4f4b-b6db-23163150f8aa",
   "metadata": {},
   "outputs": [
    {
     "data": {
      "text/plain": [
       "(2.044629247144334, 0.359761263820219, 1.0027079652824793, 0.3705428589524245)"
      ]
     },
     "execution_count": 15,
     "metadata": {},
     "output_type": "execute_result"
    }
   ],
   "source": [
    "from statsmodels.stats.diagnostic import acorr_breusch_godfrey\n",
    "acorr_breusch_godfrey(res, 2)"
   ]
  },
  {
   "cell_type": "markdown",
   "id": "93b5e470-e68f-4fa1-bedd-0e79b7a2060c",
   "metadata": {},
   "source": [
    "Since all probabilities exceed 0.05, the hypothesis H0 is accepted, ie by the Broisch-Godfrey criterion there is no autocorrelation."
   ]
  },
  {
   "attachments": {
    "2d1825c7-7b17-4ce7-8f63-75adaf8afb78.png": {
     "image/png": "[encoded data removed]"
    }
   },
   "cell_type": "markdown",
   "id": "287449d8-5e81-4de9-b4e8-56cd8dae3d20",
   "metadata": {},
   "source": [
    "In order to rank the factors according to the degree of their influence on the dependent variable, we can use the method of coefficients of elasticity (comparison of regression factors by the value of coefficients of elasticity).\n",
    "![image.png](attachment:2d1825c7-7b17-4ce7-8f63-75adaf8afb78.png)"
   ]
  },
  {
   "cell_type": "code",
   "execution_count": 16,
   "id": "00d560c8-03a7-46b3-af16-0f2487af2ca8",
   "metadata": {},
   "outputs": [
    {
     "data": {
      "text/plain": [
       "0.5387842918998618"
      ]
     },
     "execution_count": 16,
     "metadata": {},
     "output_type": "execute_result"
    }
   ],
   "source": [
    "elasticity = 0.5729 *(df[\"totlngth\"].mean() / df[\"hdlngth\"].mean())\n",
    "elasticity"
   ]
  },
  {
   "cell_type": "markdown",
   "id": "f87d947b-a544-4e4b-a823-e44b5dc945a7",
   "metadata": {},
   "source": [
    "- There is a direct relationship between the head length and total lenght.\n",
    "- With an increase in total lehghth by 1%, head will increase by 0.53%"
   ]
  },
  {
   "cell_type": "code",
   "execution_count": 17,
   "id": "72a2a18b-6e6b-4ce5-a7c2-172a3a7f1cbe",
   "metadata": {
    "tags": []
   },
   "outputs": [
    {
     "name": "stdout",
     "output_type": "stream",
     "text": [
      "case\n",
      "1      93.698007\n",
      "2      95.130261\n",
      "3      97.421866\n",
      "4      95.416711\n",
      "5      91.692853\n",
      "         ...    \n",
      "100    89.401248\n",
      "101    89.974149\n",
      "102    93.698007\n",
      "103    89.974149\n",
      "104    93.698007\n",
      "Length: 104, dtype: float64\n"
     ]
    }
   ],
   "source": [
    "ypred = res.predict(X)\n",
    "print(ypred)"
   ]
  },
  {
   "cell_type": "code",
   "execution_count": 18,
   "id": "14216e5c-b87f-498a-b776-7d59b41d4119",
   "metadata": {},
   "outputs": [
    {
     "data": {
      "text/plain": [
       "0.02757124698895785"
      ]
     },
     "execution_count": 18,
     "metadata": {},
     "output_type": "execute_result"
    }
   ],
   "source": [
    "RMSPE = np.sqrt(np.mean(np.square(((df[\"hdlngth\"] - ypred) / df[\"hdlngth\"])), axis=0))\n",
    "RMSPE"
   ]
  },
  {
   "cell_type": "markdown",
   "id": "77668b47-9cc8-4c61-887f-77df4b705484",
   "metadata": {
    "tags": []
   },
   "source": [
    "The error is less than two percent, the connection is good."
   ]
  },
  {
   "cell_type": "markdown",
   "id": "751f6b85-aecd-4179-a8c7-7d19ff5468bd",
   "metadata": {},
   "source": [
    "### 2) Can we classify a possum's sex by its body dimensions?"
   ]
  },
  {
   "cell_type": "markdown",
   "id": "ddb14a7f-02e9-46ad-b2c5-3a1579ab91af",
   "metadata": {},
   "source": [
    "Body dimensions: hdlngth, skullw, totlngth, taill, footlgth, earconch, eye, chest and belly."
   ]
  },
  {
   "cell_type": "code",
   "execution_count": 19,
   "id": "295105ee-6f4c-432f-b4c4-dea2061f98fb",
   "metadata": {},
   "outputs": [],
   "source": [
    "df[\"sex\"] = df[\"sex\"].map({\"m\":0.0, \"f\":1.0})"
   ]
  },
  {
   "cell_type": "markdown",
   "id": "cdabeb41-8f51-4930-867d-02571f25cfe6",
   "metadata": {},
   "source": [
    "We observe linear dependences."
   ]
  },
  {
   "cell_type": "code",
   "execution_count": 20,
   "id": "1e2feafa-da44-4c5e-8601-34dc5ad34f30",
   "metadata": {},
   "outputs": [
    {
     "data": {
      "text/html": [
       "<table class=\"simpletable\">\n",
       "<caption>OLS Regression Results</caption>\n",
       "<tr>\n",
       "  <th>Dep. Variable:</th>           <td>sex</td>       <th>  R-squared:         </th> <td>   0.192</td>\n",
       "</tr>\n",
       "<tr>\n",
       "  <th>Model:</th>                   <td>OLS</td>       <th>  Adj. R-squared:    </th> <td>   0.114</td>\n",
       "</tr>\n",
       "<tr>\n",
       "  <th>Method:</th>             <td>Least Squares</td>  <th>  F-statistic:       </th> <td>   2.479</td>\n",
       "</tr>\n",
       "<tr>\n",
       "  <th>Date:</th>             <td>Tue, 14 Sep 2021</td> <th>  Prob (F-statistic):</th>  <td>0.0138</td> \n",
       "</tr>\n",
       "<tr>\n",
       "  <th>Time:</th>                 <td>12:51:58</td>     <th>  Log-Likelihood:    </th> <td> -62.828</td>\n",
       "</tr>\n",
       "<tr>\n",
       "  <th>No. Observations:</th>      <td>   104</td>      <th>  AIC:               </th> <td>   145.7</td>\n",
       "</tr>\n",
       "<tr>\n",
       "  <th>Df Residuals:</th>          <td>    94</td>      <th>  BIC:               </th> <td>   172.1</td>\n",
       "</tr>\n",
       "<tr>\n",
       "  <th>Df Model:</th>              <td>     9</td>      <th>                     </th>     <td> </td>   \n",
       "</tr>\n",
       "<tr>\n",
       "  <th>Covariance Type:</th>      <td>nonrobust</td>    <th>                     </th>     <td> </td>   \n",
       "</tr>\n",
       "</table>\n",
       "<table class=\"simpletable\">\n",
       "<tr>\n",
       "      <td></td>        <th>coef</th>     <th>std err</th>      <th>t</th>      <th>P>|t|</th>  <th>[0.025</th>    <th>0.975]</th>  \n",
       "</tr>\n",
       "<tr>\n",
       "  <th>const</th>    <td>    2.9589</td> <td>    1.650</td> <td>    1.794</td> <td> 0.076</td> <td>   -0.316</td> <td>    6.234</td>\n",
       "</tr>\n",
       "<tr>\n",
       "  <th>hdlngth</th>  <td>   -0.0626</td> <td>    0.023</td> <td>   -2.737</td> <td> 0.007</td> <td>   -0.108</td> <td>   -0.017</td>\n",
       "</tr>\n",
       "<tr>\n",
       "  <th>skullw</th>   <td>   -0.0172</td> <td>    0.023</td> <td>   -0.750</td> <td> 0.455</td> <td>   -0.063</td> <td>    0.028</td>\n",
       "</tr>\n",
       "<tr>\n",
       "  <th>totlngth</th> <td>    0.0511</td> <td>    0.020</td> <td>    2.494</td> <td> 0.014</td> <td>    0.010</td> <td>    0.092</td>\n",
       "</tr>\n",
       "<tr>\n",
       "  <th>taill</th>    <td>   -0.0287</td> <td>    0.036</td> <td>   -0.796</td> <td> 0.428</td> <td>   -0.100</td> <td>    0.043</td>\n",
       "</tr>\n",
       "<tr>\n",
       "  <th>footlgth</th> <td>    0.0100</td> <td>    0.019</td> <td>    0.532</td> <td> 0.596</td> <td>   -0.027</td> <td>    0.047</td>\n",
       "</tr>\n",
       "<tr>\n",
       "  <th>earconch</th> <td>   -0.0126</td> <td>    0.020</td> <td>   -0.642</td> <td> 0.522</td> <td>   -0.052</td> <td>    0.026</td>\n",
       "</tr>\n",
       "<tr>\n",
       "  <th>eye</th>      <td>   -0.0728</td> <td>    0.049</td> <td>   -1.499</td> <td> 0.137</td> <td>   -0.169</td> <td>    0.024</td>\n",
       "</tr>\n",
       "<tr>\n",
       "  <th>chest</th>    <td>    0.0497</td> <td>    0.036</td> <td>    1.395</td> <td> 0.166</td> <td>   -0.021</td> <td>    0.121</td>\n",
       "</tr>\n",
       "<tr>\n",
       "  <th>belly</th>    <td>    0.0160</td> <td>    0.022</td> <td>    0.713</td> <td> 0.477</td> <td>   -0.028</td> <td>    0.060</td>\n",
       "</tr>\n",
       "</table>\n",
       "<table class=\"simpletable\">\n",
       "<tr>\n",
       "  <th>Omnibus:</th>       <td>35.114</td> <th>  Durbin-Watson:     </th> <td>   1.855</td>\n",
       "</tr>\n",
       "<tr>\n",
       "  <th>Prob(Omnibus):</th> <td> 0.000</td> <th>  Jarque-Bera (JB):  </th> <td>   7.022</td>\n",
       "</tr>\n",
       "<tr>\n",
       "  <th>Skew:</th>          <td> 0.225</td> <th>  Prob(JB):          </th> <td>  0.0299</td>\n",
       "</tr>\n",
       "<tr>\n",
       "  <th>Kurtosis:</th>      <td> 1.809</td> <th>  Cond. No.          </th> <td>6.24e+03</td>\n",
       "</tr>\n",
       "</table><br/><br/>Notes:<br/>[1] Standard Errors assume that the covariance matrix of the errors is correctly specified.<br/>[2] The condition number is large, 6.24e+03. This might indicate that there are<br/>strong multicollinearity or other numerical problems."
      ],
      "text/plain": [
       "<class 'statsmodels.iolib.summary.Summary'>\n",
       "\"\"\"\n",
       "                            OLS Regression Results                            \n",
       "==============================================================================\n",
       "Dep. Variable:                    sex   R-squared:                       0.192\n",
       "Model:                            OLS   Adj. R-squared:                  0.114\n",
       "Method:                 Least Squares   F-statistic:                     2.479\n",
       "Date:                Tue, 14 Sep 2021   Prob (F-statistic):             0.0138\n",
       "Time:                        12:51:58   Log-Likelihood:                -62.828\n",
       "No. Observations:                 104   AIC:                             145.7\n",
       "Df Residuals:                      94   BIC:                             172.1\n",
       "Df Model:                           9                                         \n",
       "Covariance Type:            nonrobust                                         \n",
       "==============================================================================\n",
       "                 coef    std err          t      P>|t|      [0.025      0.975]\n",
       "------------------------------------------------------------------------------\n",
       "const          2.9589      1.650      1.794      0.076      -0.316       6.234\n",
       "hdlngth       -0.0626      0.023     -2.737      0.007      -0.108      -0.017\n",
       "skullw        -0.0172      0.023     -0.750      0.455      -0.063       0.028\n",
       "totlngth       0.0511      0.020      2.494      0.014       0.010       0.092\n",
       "taill         -0.0287      0.036     -0.796      0.428      -0.100       0.043\n",
       "footlgth       0.0100      0.019      0.532      0.596      -0.027       0.047\n",
       "earconch      -0.0126      0.020     -0.642      0.522      -0.052       0.026\n",
       "eye           -0.0728      0.049     -1.499      0.137      -0.169       0.024\n",
       "chest          0.0497      0.036      1.395      0.166      -0.021       0.121\n",
       "belly          0.0160      0.022      0.713      0.477      -0.028       0.060\n",
       "==============================================================================\n",
       "Omnibus:                       35.114   Durbin-Watson:                   1.855\n",
       "Prob(Omnibus):                  0.000   Jarque-Bera (JB):                7.022\n",
       "Skew:                           0.225   Prob(JB):                       0.0299\n",
       "Kurtosis:                       1.809   Cond. No.                     6.24e+03\n",
       "==============================================================================\n",
       "\n",
       "Notes:\n",
       "[1] Standard Errors assume that the covariance matrix of the errors is correctly specified.\n",
       "[2] The condition number is large, 6.24e+03. This might indicate that there are\n",
       "strong multicollinearity or other numerical problems.\n",
       "\"\"\""
      ]
     },
     "execution_count": 20,
     "metadata": {},
     "output_type": "execute_result"
    }
   ],
   "source": [
    "X = df[[\"hdlngth\", \"skullw\", \"totlngth\", \"taill\", \"footlgth\", \"earconch\", \"eye\", \"chest\", \"belly\"]]\n",
    "X = sm.add_constant(X)\n",
    "\n",
    "Y = df[\"sex\"]\n",
    "\n",
    "res2 = sm.OLS(Y, X).fit()\n",
    "res2.summary()"
   ]
  },
  {
   "cell_type": "markdown",
   "id": "b590568c-6088-4bd1-aa7c-200437d27edb",
   "metadata": {},
   "source": [
    "Significant coefficients are only: **hdlngth, totlngth**."
   ]
  },
  {
   "cell_type": "code",
   "execution_count": 21,
   "id": "8cb0ca45-7755-45f8-aace-bc2ba1c32863",
   "metadata": {},
   "outputs": [
    {
     "data": {
      "text/html": [
       "<table class=\"simpletable\">\n",
       "<caption>OLS Regression Results</caption>\n",
       "<tr>\n",
       "  <th>Dep. Variable:</th>           <td>sex</td>       <th>  R-squared (uncentered):</th>      <td>   0.476</td>\n",
       "</tr>\n",
       "<tr>\n",
       "  <th>Model:</th>                   <td>OLS</td>       <th>  Adj. R-squared (uncentered):</th> <td>   0.466</td>\n",
       "</tr>\n",
       "<tr>\n",
       "  <th>Method:</th>             <td>Least Squares</td>  <th>  F-statistic:       </th>          <td>   46.35</td>\n",
       "</tr>\n",
       "<tr>\n",
       "  <th>Date:</th>             <td>Tue, 14 Sep 2021</td> <th>  Prob (F-statistic):</th>          <td>4.81e-15</td>\n",
       "</tr>\n",
       "<tr>\n",
       "  <th>Time:</th>                 <td>12:51:58</td>     <th>  Log-Likelihood:    </th>          <td> -68.029</td>\n",
       "</tr>\n",
       "<tr>\n",
       "  <th>No. Observations:</th>      <td>   104</td>      <th>  AIC:               </th>          <td>   140.1</td>\n",
       "</tr>\n",
       "<tr>\n",
       "  <th>Df Residuals:</th>          <td>   102</td>      <th>  BIC:               </th>          <td>   145.3</td>\n",
       "</tr>\n",
       "<tr>\n",
       "  <th>Df Model:</th>              <td>     2</td>      <th>                     </th>              <td> </td>   \n",
       "</tr>\n",
       "<tr>\n",
       "  <th>Covariance Type:</th>      <td>nonrobust</td>    <th>                     </th>              <td> </td>   \n",
       "</tr>\n",
       "</table>\n",
       "<table class=\"simpletable\">\n",
       "<tr>\n",
       "      <td></td>        <th>coef</th>     <th>std err</th>      <th>t</th>      <th>P>|t|</th>  <th>[0.025</th>    <th>0.975]</th>  \n",
       "</tr>\n",
       "<tr>\n",
       "  <th>hdlngth</th>  <td>   -0.0458</td> <td>    0.014</td> <td>   -3.297</td> <td> 0.001</td> <td>   -0.073</td> <td>   -0.018</td>\n",
       "</tr>\n",
       "<tr>\n",
       "  <th>totlngth</th> <td>    0.0534</td> <td>    0.015</td> <td>    3.619</td> <td> 0.000</td> <td>    0.024</td> <td>    0.083</td>\n",
       "</tr>\n",
       "</table>\n",
       "<table class=\"simpletable\">\n",
       "<tr>\n",
       "  <th>Omnibus:</th>       <td>182.068</td> <th>  Durbin-Watson:     </th> <td>   1.916</td>\n",
       "</tr>\n",
       "<tr>\n",
       "  <th>Prob(Omnibus):</th> <td> 0.000</td>  <th>  Jarque-Bera (JB):  </th> <td>  10.615</td>\n",
       "</tr>\n",
       "<tr>\n",
       "  <th>Skew:</th>          <td> 0.269</td>  <th>  Prob(JB):          </th> <td> 0.00496</td>\n",
       "</tr>\n",
       "<tr>\n",
       "  <th>Kurtosis:</th>      <td> 1.530</td>  <th>  Cond. No.          </th> <td>    55.9</td>\n",
       "</tr>\n",
       "</table><br/><br/>Notes:<br/>[1] R² is computed without centering (uncentered) since the model does not contain a constant.<br/>[2] Standard Errors assume that the covariance matrix of the errors is correctly specified."
      ],
      "text/plain": [
       "<class 'statsmodels.iolib.summary.Summary'>\n",
       "\"\"\"\n",
       "                                 OLS Regression Results                                \n",
       "=======================================================================================\n",
       "Dep. Variable:                    sex   R-squared (uncentered):                   0.476\n",
       "Model:                            OLS   Adj. R-squared (uncentered):              0.466\n",
       "Method:                 Least Squares   F-statistic:                              46.35\n",
       "Date:                Tue, 14 Sep 2021   Prob (F-statistic):                    4.81e-15\n",
       "Time:                        12:51:58   Log-Likelihood:                         -68.029\n",
       "No. Observations:                 104   AIC:                                      140.1\n",
       "Df Residuals:                     102   BIC:                                      145.3\n",
       "Df Model:                           2                                                  \n",
       "Covariance Type:            nonrobust                                                  \n",
       "==============================================================================\n",
       "                 coef    std err          t      P>|t|      [0.025      0.975]\n",
       "------------------------------------------------------------------------------\n",
       "hdlngth       -0.0458      0.014     -3.297      0.001      -0.073      -0.018\n",
       "totlngth       0.0534      0.015      3.619      0.000       0.024       0.083\n",
       "==============================================================================\n",
       "Omnibus:                      182.068   Durbin-Watson:                   1.916\n",
       "Prob(Omnibus):                  0.000   Jarque-Bera (JB):               10.615\n",
       "Skew:                           0.269   Prob(JB):                      0.00496\n",
       "Kurtosis:                       1.530   Cond. No.                         55.9\n",
       "==============================================================================\n",
       "\n",
       "Notes:\n",
       "[1] R² is computed without centering (uncentered) since the model does not contain a constant.\n",
       "[2] Standard Errors assume that the covariance matrix of the errors is correctly specified.\n",
       "\"\"\""
      ]
     },
     "execution_count": 21,
     "metadata": {},
     "output_type": "execute_result"
    }
   ],
   "source": [
    "X = df[[\"hdlngth\",\"totlngth\"]]\n",
    "\n",
    "Y = df[\"sex\"]\n",
    "\n",
    "res2 = sm.OLS(Y, X).fit()\n",
    "res2.summary()"
   ]
  },
  {
   "cell_type": "code",
   "execution_count": 35,
   "id": "e686d612-dbf0-4d87-b620-fef40a7f0409",
   "metadata": {},
   "outputs": [
    {
     "name": "stdout",
     "output_type": "stream",
     "text": [
      "Parameters:  hdlngth    -0.045769\n",
      "totlngth    0.053394\n",
      "dtype: float64\n",
      "Standard errors:  hdlngth     0.013881\n",
      "totlngth    0.014753\n",
      "dtype: float64\n"
     ]
    }
   ],
   "source": [
    "print('Parameters: ', res2.params)\n",
    "print('Standard errors: ', res2.bse)"
   ]
  },
  {
   "cell_type": "code",
   "execution_count": 23,
   "id": "93630dc2-efd0-4e9c-921e-305cacbd3a39",
   "metadata": {},
   "outputs": [
    {
     "data": {
      "text/plain": [
       "<matplotlib.legend.Legend at 0x1523e52e550>"
      ]
     },
     "execution_count": 23,
     "metadata": {},
     "output_type": "execute_result"
    },
    {
     "data": {
      "image/png": "[encoded data removed]",
      "text/plain": [
       "<Figure size 432x288 with 1 Axes>"
      ]
     },
     "metadata": {},
     "output_type": "display_data"
    }
   ],
   "source": [
    "plt.plot(df.index, res2.predict(), \"o\")\n",
    "plt.plot(df.index, df[\"sex\"], \"o\")\n",
    "plt.xlabel(\"Observation\")\n",
    "plt.ylabel(\"Sex\")\n",
    "plt.legend([\"Predicted\", \"True\"])"
   ]
  },
  {
   "cell_type": "markdown",
   "id": "3287b805-f186-4df9-bcef-99b52d1211d4",
   "metadata": {},
   "source": [
    "1) Hypothesis about the adequacy of the model: R^2 = 0.478, independent variable explain the dependent variable on 47.8%.\n",
    "\n",
    "2) Hypothesis about the significance of the model coefficient: Prob < 0.05  Coefficient is significant."
   ]
  },
  {
   "cell_type": "markdown",
   "id": "adbe4452-e53b-46b5-ba86-535c38685814",
   "metadata": {},
   "source": [
    "It is important to determine reliable intervals for the coefficient of the model (characterize the possibility of fluctuations of the coefficients of the constructed regression in a certain interval)."
   ]
  },
  {
   "cell_type": "code",
   "execution_count": 24,
   "id": "08e0a41b-a6af-419a-9c83-097b3c9bb086",
   "metadata": {},
   "outputs": [
    {
     "data": {
      "text/html": [
       "<div>\n",
       "<style scoped>\n",
       "    .dataframe tbody tr th:only-of-type {\n",
       "        vertical-align: middle;\n",
       "    }\n",
       "\n",
       "    .dataframe tbody tr th {\n",
       "        vertical-align: top;\n",
       "    }\n",
       "\n",
       "    .dataframe thead th {\n",
       "        text-align: right;\n",
       "    }\n",
       "</style>\n",
       "<table border=\"1\" class=\"dataframe\">\n",
       "  <thead>\n",
       "    <tr style=\"text-align: right;\">\n",
       "      <th></th>\n",
       "      <th>0</th>\n",
       "      <th>1</th>\n",
       "    </tr>\n",
       "  </thead>\n",
       "  <tbody>\n",
       "    <tr>\n",
       "      <th>hdlngth</th>\n",
       "      <td>-0.073303</td>\n",
       "      <td>-0.018236</td>\n",
       "    </tr>\n",
       "    <tr>\n",
       "      <th>totlngth</th>\n",
       "      <td>0.024131</td>\n",
       "      <td>0.082657</td>\n",
       "    </tr>\n",
       "  </tbody>\n",
       "</table>\n",
       "</div>"
      ],
      "text/plain": [
       "                 0         1\n",
       "hdlngth  -0.073303 -0.018236\n",
       "totlngth  0.024131  0.082657"
      ]
     },
     "execution_count": 24,
     "metadata": {},
     "output_type": "execute_result"
    }
   ],
   "source": [
    "res2.conf_int(alpha = 0.05)"
   ]
  },
  {
   "cell_type": "markdown",
   "id": "cea68bfb-f5f8-4cd6-be67-26b3d7645b58",
   "metadata": {},
   "source": [
    "**Normality of residuals:**"
   ]
  },
  {
   "cell_type": "markdown",
   "id": "81e7262d-b83d-4c59-a8a8-8782b8d4ca59",
   "metadata": {},
   "source": [
    "Jarque-Bera (JB) < 0.05 so residuals dont have normal distribution."
   ]
  },
  {
   "cell_type": "code",
   "execution_count": 25,
   "id": "51af99b6-b9b5-417d-a528-bfad8c760c11",
   "metadata": {},
   "outputs": [
    {
     "data": {
      "text/plain": [
       "Text(0.5, 1.0, 'Normality of residuals')"
      ]
     },
     "execution_count": 25,
     "metadata": {},
     "output_type": "execute_result"
    },
    {
     "data": {
      "image/png": "[encoded data removed]",
      "text/plain": [
       "<Figure size 432x288 with 1 Axes>"
      ]
     },
     "metadata": {},
     "output_type": "display_data"
    }
   ],
   "source": [
    "plt.hist(res2.resid, bins = [-3,-2,-1,0,1,2,3])\n",
    "plt.title(\"Normality of residuals\") "
   ]
  },
  {
   "attachments": {
    "2d1825c7-7b17-4ce7-8f63-75adaf8afb78.png": {
     "image/png": "[encoded data removed]"
    }
   },
   "cell_type": "markdown",
   "id": "8ae9e6b4-6a01-4d23-9ce9-8530d6fd7d68",
   "metadata": {},
   "source": [
    "In order to rank the factors according to the degree of their influence on the dependent variable, we can use the method of coefficients of elasticity (comparison of regression factors by the value of coefficients of elasticity).\n",
    "![image.png](attachment:2d1825c7-7b17-4ce7-8f63-75adaf8afb78.png)"
   ]
  },
  {
   "cell_type": "code",
   "execution_count": 26,
   "id": "c9bc26d4-2f9a-4419-8e31-9030e9f913cf",
   "metadata": {},
   "outputs": [
    {
     "data": {
      "text/plain": [
       "-0.00020449188532505418"
      ]
     },
     "execution_count": 26,
     "metadata": {},
     "output_type": "execute_result"
    }
   ],
   "source": [
    "elasticity = -0.0458 *(df[\"sex\"].mean() / df[\"hdlngth\"].mean())\n",
    "elasticity"
   ]
  },
  {
   "cell_type": "code",
   "execution_count": 27,
   "id": "d7743cc7-6bcf-4c96-98ea-5c2df807ee59",
   "metadata": {},
   "outputs": [
    {
     "data": {
      "text/plain": [
       "0.00025352205979773"
      ]
     },
     "execution_count": 27,
     "metadata": {},
     "output_type": "execute_result"
    }
   ],
   "source": [
    "elasticity = 0.0534 *(df[\"sex\"].mean() / df[\"totlngth\"].mean())\n",
    "elasticity"
   ]
  },
  {
   "cell_type": "markdown",
   "id": "89297f21-b139-489c-9229-3f8e45f7ebbf",
   "metadata": {},
   "source": [
    "- There is a direct relationship between the sex and head length and inderect between sex and total lenght.\n",
    "- With an increase in head lehghth by 1%, sex decrease by 0.0002% (the longer head -> its male)\n",
    "- With an increase in total leghth by 1% sex increase by 0.00025% (the longer body -> its female)"
   ]
  },
  {
   "cell_type": "code",
   "execution_count": 28,
   "id": "fc71a88e-19df-4069-92e8-4b5543abb2b3",
   "metadata": {
    "tags": []
   },
   "outputs": [
    {
     "name": "stdout",
     "output_type": "stream",
     "text": [
      "case\n",
      "1      0.445148\n",
      "2      0.651863\n",
      "3      0.796784\n",
      "4      0.646522\n",
      "5      0.377270\n",
      "         ...   \n",
      "100    0.255234\n",
      "101    0.349820\n",
      "102    0.522956\n",
      "103    0.217089\n",
      "104    0.468033\n",
      "Length: 104, dtype: float64\n"
     ]
    }
   ],
   "source": [
    "ypred2 = res2.predict(X)\n",
    "print(ypred2)"
   ]
  },
  {
   "cell_type": "markdown",
   "id": "40effd1e-d659-46b8-9cb4-4c087215ded6",
   "metadata": {},
   "source": [
    "**Multicollinearity:**"
   ]
  },
  {
   "cell_type": "code",
   "execution_count": 29,
   "id": "7e791d38-9b5e-40b1-b62b-b4f047324205",
   "metadata": {},
   "outputs": [
    {
     "data": {
      "text/html": [
       "<div>\n",
       "<style scoped>\n",
       "    .dataframe tbody tr th:only-of-type {\n",
       "        vertical-align: middle;\n",
       "    }\n",
       "\n",
       "    .dataframe tbody tr th {\n",
       "        vertical-align: top;\n",
       "    }\n",
       "\n",
       "    .dataframe thead th {\n",
       "        text-align: right;\n",
       "    }\n",
       "</style>\n",
       "<table border=\"1\" class=\"dataframe\">\n",
       "  <thead>\n",
       "    <tr style=\"text-align: right;\">\n",
       "      <th></th>\n",
       "      <th>indicator</th>\n",
       "      <th>VIF</th>\n",
       "    </tr>\n",
       "  </thead>\n",
       "  <tbody>\n",
       "    <tr>\n",
       "      <th>0</th>\n",
       "      <td>Head length</td>\n",
       "      <td>779.208518</td>\n",
       "    </tr>\n",
       "    <tr>\n",
       "      <th>1</th>\n",
       "      <td>Total length</td>\n",
       "      <td>779.208518</td>\n",
       "    </tr>\n",
       "  </tbody>\n",
       "</table>\n",
       "</div>"
      ],
      "text/plain": [
       "      indicator         VIF\n",
       "0   Head length  779.208518\n",
       "1  Total length  779.208518"
      ]
     },
     "execution_count": 29,
     "metadata": {},
     "output_type": "execute_result"
    }
   ],
   "source": [
    "from statsmodels.stats.outliers_influence import variance_inflation_factor\n",
    "vif_data = pd.DataFrame()\n",
    "vif_data[\"indicator\"] = [\"Head length\", \"Total length\"]\n",
    "MULTI = df[[\"hdlngth\", \"totlngth\"]]\n",
    "# calculating VIF for each indicator\n",
    "vif_data[\"VIF\"] = [ variance_inflation_factor(MULTI.values, i) for i in range(len(MULTI.columns))]\n",
    "   \n",
    "vif_data"
   ]
  },
  {
   "cell_type": "markdown",
   "id": "6ef59eec-018a-4d4e-b657-dd5c757d6515",
   "metadata": {},
   "source": [
    "> VIF> 5 -> Two factors extra connected (out firs quastions also confirm it)"
   ]
  },
  {
   "cell_type": "markdown",
   "id": "1eed9eda-1b96-49a5-bd58-03a1d7346fa3",
   "metadata": {},
   "source": [
    "### 3) Visualising data"
   ]
  },
  {
   "cell_type": "markdown",
   "id": "98492764-9e43-4fb2-a3fe-d08ec22ce81d",
   "metadata": {},
   "source": [
    "**Age classification:**"
   ]
  },
  {
   "cell_type": "markdown",
   "id": "6e24686e-ba07-404e-a8be-08e18d6da0c5",
   "metadata": {},
   "source": [
    "To understand how much of eash age group are represented in our dataset I use bar graph."
   ]
  },
  {
   "cell_type": "code",
   "execution_count": 30,
   "id": "c237915b-32b5-4974-8274-22ee7fc99683",
   "metadata": {},
   "outputs": [
    {
     "data": {
      "image/png": "[encoded data removed]",
      "text/plain": [
       "<Figure size 360x360 with 1 Axes>"
      ]
     },
     "metadata": {},
     "output_type": "display_data"
    }
   ],
   "source": [
    "fig = sns.catplot(x=\"age\", kind=\"count\", data=df)"
   ]
  },
  {
   "cell_type": "markdown",
   "id": "c6838390-9a94-4e43-b495-af0d9fda4f4a",
   "metadata": {},
   "source": [
    "> Most of the oposums are presented before 5 year."
   ]
  },
  {
   "cell_type": "markdown",
   "id": "8eb90859-0694-4370-93d6-440e8093dd6c",
   "metadata": {},
   "source": [
    "**Sex classification:**"
   ]
  },
  {
   "cell_type": "code",
   "execution_count": 31,
   "id": "6ae2ada3-7346-45ba-9972-2fa0866d5d0d",
   "metadata": {},
   "outputs": [
    {
     "data": {
      "text/plain": [
       "<seaborn.axisgrid.FacetGrid at 0x1523e644340>"
      ]
     },
     "execution_count": 31,
     "metadata": {},
     "output_type": "execute_result"
    },
    {
     "data": {
      "image/png": "[encoded data removed]",
      "text/plain": [
       "<Figure size 259.2x288 with 1 Axes>"
      ]
     },
     "metadata": {},
     "output_type": "display_data"
    }
   ],
   "source": [
    "sns.catplot(kind = \"count\", x = \"sex\", data =df, height=4, aspect=0.9)"
   ]
  },
  {
   "cell_type": "markdown",
   "id": "266b2c2b-e90f-4e7e-8a87-f163161cdb20",
   "metadata": {},
   "source": [
    "> There are more male opossums in our sample than female."
   ]
  },
  {
   "cell_type": "code",
   "execution_count": 32,
   "id": "f4a561bf-64a2-4369-a042-cc7c203a2485",
   "metadata": {},
   "outputs": [
    {
     "data": {
      "text/plain": [
       "<seaborn.axisgrid.FacetGrid at 0x1523e6b7c40>"
      ]
     },
     "execution_count": 32,
     "metadata": {},
     "output_type": "execute_result"
    },
    {
     "data": {
      "image/png": "[encoded data removed]",
      "text/plain": [
       "<Figure size 630.975x288 with 1 Axes>"
      ]
     },
     "metadata": {},
     "output_type": "display_data"
    }
   ],
   "source": [
    "sns.catplot(x=\"age\", y=\"Pop\", hue=\"sex\", kind=\"swarm\", data=df, height=4, aspect=2)"
   ]
  },
  {
   "cell_type": "markdown",
   "id": "c4aca5bb-089b-4d54-8b53-31c1e98f18ed",
   "metadata": {},
   "source": [
    "> Most opossums are from Victoria, they are represented in all age categories, the opossums from other places are presented up to 7 years."
   ]
  },
  {
   "cell_type": "code",
   "execution_count": 33,
   "id": "ae2d611b-27a2-4968-b800-d4b3854319ad",
   "metadata": {},
   "outputs": [
    {
     "data": {
      "text/plain": [
       "<seaborn.axisgrid.FacetGrid at 0x1523e740cd0>"
      ]
     },
     "execution_count": 33,
     "metadata": {},
     "output_type": "execute_result"
    },
    {
     "data": {
      "image/png": "[encoded data removed]",
      "text/plain": [
       "<Figure size 918.975x432 with 1 Axes>"
      ]
     },
     "metadata": {},
     "output_type": "display_data"
    }
   ],
   "source": [
    "sns.catplot(kind = \"box\", x = \"totlngth\", y = \"hdlngth\", hue = \"sex\", data = df, height=6, aspect=2)"
   ]
  },
  {
   "cell_type": "markdown",
   "id": "9de02826-1fa1-497a-84ae-4d291e276e6f",
   "metadata": {},
   "source": [
    "> Here we see a graphical representation of our two regression questions, about the length of the body and head, by which we can determine the gender. It can be seen from the graph that our **assumption are confirmed**, the longer the body, the more likely we have a female, and the larger the head, the more likely we have a male in front of us. And the longer body, the longer head."
   ]
  },
  {
   "cell_type": "markdown",
   "id": "451beeac-8d83-4d61-90de-d9e45b4a2df9",
   "metadata": {},
   "source": [
    "### Thank you for your time 👋"
   ]
  }
 ],
 "metadata": {
  "kernelspec": {
   "display_name": "Python 3",
   "language": "python",
   "name": "python3"
  },
  "language_info": {
   "codemirror_mode": {
    "name": "ipython",
    "version": 3
   },
   "file_extension": ".py",
   "mimetype": "text/x-python",
   "name": "python",
   "nbconvert_exporter": "python",
   "pygments_lexer": "ipython3",
   "version": "3.8.8"
  }
 },
 "nbformat": 4,
 "nbformat_minor": 5
}
